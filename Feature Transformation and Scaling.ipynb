{
 "cells": [
  {
   "cell_type": "markdown",
   "id": "520fb406",
   "metadata": {},
   "source": [
    "#### Practising Feature transformation and scaling with an example to understand the topic\n"
   ]
  },
  {
   "cell_type": "code",
   "execution_count": 102,
   "id": "faea664e",
   "metadata": {},
   "outputs": [],
   "source": [
    "import pandas as pd\n",
    "import numpy as np\n",
    "import matplotlib.pyplot as plt\n",
    "%matplotlib inline\n",
    "\n",
    "\n",
    "df = pd.DataFrame({\n",
    "    'Income': [250000, 18000, 12000, 1000000],\n",
    "    'Age': [25, 30, 51, 42],\n",
    "    'Department': ['HR','Insurance','Marketing','Finance'],\n",
    "    'Balance' : [100.0, -263.0, 2000.0, -5.0]\n",
    "})"
   ]
  },
  {
   "cell_type": "code",
   "execution_count": 103,
   "id": "fd0e30c2",
   "metadata": {},
   "outputs": [
    {
     "data": {
      "text/html": [
       "<div>\n",
       "<style scoped>\n",
       "    .dataframe tbody tr th:only-of-type {\n",
       "        vertical-align: middle;\n",
       "    }\n",
       "\n",
       "    .dataframe tbody tr th {\n",
       "        vertical-align: top;\n",
       "    }\n",
       "\n",
       "    .dataframe thead th {\n",
       "        text-align: right;\n",
       "    }\n",
       "</style>\n",
       "<table border=\"1\" class=\"dataframe\">\n",
       "  <thead>\n",
       "    <tr style=\"text-align: right;\">\n",
       "      <th></th>\n",
       "      <th>Income</th>\n",
       "      <th>Age</th>\n",
       "      <th>Department</th>\n",
       "      <th>Balance</th>\n",
       "    </tr>\n",
       "  </thead>\n",
       "  <tbody>\n",
       "    <tr>\n",
       "      <th>0</th>\n",
       "      <td>250000</td>\n",
       "      <td>25</td>\n",
       "      <td>HR</td>\n",
       "      <td>100.0</td>\n",
       "    </tr>\n",
       "    <tr>\n",
       "      <th>1</th>\n",
       "      <td>18000</td>\n",
       "      <td>30</td>\n",
       "      <td>Insurance</td>\n",
       "      <td>-263.0</td>\n",
       "    </tr>\n",
       "    <tr>\n",
       "      <th>2</th>\n",
       "      <td>12000</td>\n",
       "      <td>51</td>\n",
       "      <td>Marketing</td>\n",
       "      <td>2000.0</td>\n",
       "    </tr>\n",
       "    <tr>\n",
       "      <th>3</th>\n",
       "      <td>1000000</td>\n",
       "      <td>42</td>\n",
       "      <td>Finance</td>\n",
       "      <td>-5.0</td>\n",
       "    </tr>\n",
       "  </tbody>\n",
       "</table>\n",
       "</div>"
      ],
      "text/plain": [
       "    Income  Age Department  Balance\n",
       "0   250000   25         HR    100.0\n",
       "1    18000   30  Insurance   -263.0\n",
       "2    12000   51  Marketing   2000.0\n",
       "3  1000000   42    Finance     -5.0"
      ]
     },
     "execution_count": 103,
     "metadata": {},
     "output_type": "execute_result"
    }
   ],
   "source": [
    "df"
   ]
  },
  {
   "cell_type": "markdown",
   "id": "0d2eab2f",
   "metadata": {},
   "source": [
    "### Step 1:\n",
    " \n",
    "\n",
    "Why do we need Feature Transformation and Scaling?\n",
    "Oftentimes, we have datasets in which different columns have different units – like one column can be in kilograms, while another column can be in centimeters. Furthermore, we can have columns like income which can range from 20,000 to 100,000, and even more; while an age column which can range from 0 to 100(at the most). Thus, Income is about 1,000 times larger than age.\n",
    "\n",
    "\n",
    "Before directly applying any feature transformation or scaling technique, we need to remember the categorical column: because we cannot scale non-numeric values.\n"
   ]
  },
  {
   "cell_type": "code",
   "execution_count": 104,
   "id": "70e7a647",
   "metadata": {},
   "outputs": [],
   "source": [
    "df_scaled = df.copy()\n",
    "col_names = ['Income', 'Age']\n",
    "features = df_scaled[col_names]"
   ]
  },
  {
   "cell_type": "markdown",
   "id": "0c3e8c9d",
   "metadata": {},
   "source": [
    "### MinMax Scaler\n",
    "\n",
    "- Scales the data between 0 and 1 which is the default range. We can also define our min and max range.\n",
    "\n",
    "- MinMax Scaler does does the scaling for every feature separately. \n",
    "\n",
    "- This transformation is often used as an alternative to zero mean, unit variance scaling.\n",
    "\n",
    "-  MinMaxScaler doesn’t reduce the effect of outliers, but it linearily scales them down into a fixed range, where the largest occuring data point corresponds to the maximum value and the smallest one corresponds to the minimum value"
   ]
  },
  {
   "cell_type": "markdown",
   "id": "fb3649c8",
   "metadata": {},
   "source": [
    "#### Transformation formula \n",
    "\n",
    "X_std = (X - X.min(axis=0)) / (X.max(axis=0) - X.min(axis=0))\n",
    "\n",
    "X_scaled = X_std * (max - min) + min\n",
    "\n",
    "where  min, max = feature_range."
   ]
  },
  {
   "cell_type": "code",
   "execution_count": 105,
   "id": "c1654204",
   "metadata": {},
   "outputs": [],
   "source": [
    "# import the library\n",
    "\n",
    "from sklearn.preprocessing import MinMaxScaler"
   ]
  },
  {
   "cell_type": "code",
   "execution_count": 106,
   "id": "b919d692",
   "metadata": {},
   "outputs": [],
   "source": [
    "scaler = MinMaxScaler()\n",
    "df_scaled[col_names] = scaler.fit_transform(features.values)"
   ]
  },
  {
   "cell_type": "code",
   "execution_count": 107,
   "id": "22ecca5c",
   "metadata": {},
   "outputs": [
    {
     "data": {
      "text/html": [
       "<div>\n",
       "<style scoped>\n",
       "    .dataframe tbody tr th:only-of-type {\n",
       "        vertical-align: middle;\n",
       "    }\n",
       "\n",
       "    .dataframe tbody tr th {\n",
       "        vertical-align: top;\n",
       "    }\n",
       "\n",
       "    .dataframe thead th {\n",
       "        text-align: right;\n",
       "    }\n",
       "</style>\n",
       "<table border=\"1\" class=\"dataframe\">\n",
       "  <thead>\n",
       "    <tr style=\"text-align: right;\">\n",
       "      <th></th>\n",
       "      <th>Income</th>\n",
       "      <th>Age</th>\n",
       "      <th>Department</th>\n",
       "      <th>Balance</th>\n",
       "    </tr>\n",
       "  </thead>\n",
       "  <tbody>\n",
       "    <tr>\n",
       "      <th>0</th>\n",
       "      <td>0.240891</td>\n",
       "      <td>0.000000</td>\n",
       "      <td>HR</td>\n",
       "      <td>100.0</td>\n",
       "    </tr>\n",
       "    <tr>\n",
       "      <th>1</th>\n",
       "      <td>0.006073</td>\n",
       "      <td>0.192308</td>\n",
       "      <td>Insurance</td>\n",
       "      <td>-263.0</td>\n",
       "    </tr>\n",
       "    <tr>\n",
       "      <th>2</th>\n",
       "      <td>0.000000</td>\n",
       "      <td>1.000000</td>\n",
       "      <td>Marketing</td>\n",
       "      <td>2000.0</td>\n",
       "    </tr>\n",
       "    <tr>\n",
       "      <th>3</th>\n",
       "      <td>1.000000</td>\n",
       "      <td>0.653846</td>\n",
       "      <td>Finance</td>\n",
       "      <td>-5.0</td>\n",
       "    </tr>\n",
       "  </tbody>\n",
       "</table>\n",
       "</div>"
      ],
      "text/plain": [
       "     Income       Age Department  Balance\n",
       "0  0.240891  0.000000         HR    100.0\n",
       "1  0.006073  0.192308  Insurance   -263.0\n",
       "2  0.000000  1.000000  Marketing   2000.0\n",
       "3  1.000000  0.653846    Finance     -5.0"
      ]
     },
     "execution_count": 107,
     "metadata": {},
     "output_type": "execute_result"
    }
   ],
   "source": [
    "df_scaled  #maximum values gets replaced by 1 and min by 0"
   ]
  },
  {
   "cell_type": "code",
   "execution_count": 108,
   "id": "b9430d8b",
   "metadata": {},
   "outputs": [
    {
     "data": {
      "text/html": [
       "<div>\n",
       "<style scoped>\n",
       "    .dataframe tbody tr th:only-of-type {\n",
       "        vertical-align: middle;\n",
       "    }\n",
       "\n",
       "    .dataframe tbody tr th {\n",
       "        vertical-align: top;\n",
       "    }\n",
       "\n",
       "    .dataframe thead th {\n",
       "        text-align: right;\n",
       "    }\n",
       "</style>\n",
       "<table border=\"1\" class=\"dataframe\">\n",
       "  <thead>\n",
       "    <tr style=\"text-align: right;\">\n",
       "      <th></th>\n",
       "      <th>Income</th>\n",
       "      <th>Age</th>\n",
       "      <th>Department</th>\n",
       "      <th>Balance</th>\n",
       "    </tr>\n",
       "  </thead>\n",
       "  <tbody>\n",
       "    <tr>\n",
       "      <th>0</th>\n",
       "      <td>6.204453</td>\n",
       "      <td>5.000000</td>\n",
       "      <td>HR</td>\n",
       "      <td>100.0</td>\n",
       "    </tr>\n",
       "    <tr>\n",
       "      <th>1</th>\n",
       "      <td>5.030364</td>\n",
       "      <td>5.961538</td>\n",
       "      <td>Insurance</td>\n",
       "      <td>-263.0</td>\n",
       "    </tr>\n",
       "    <tr>\n",
       "      <th>2</th>\n",
       "      <td>5.000000</td>\n",
       "      <td>10.000000</td>\n",
       "      <td>Marketing</td>\n",
       "      <td>2000.0</td>\n",
       "    </tr>\n",
       "    <tr>\n",
       "      <th>3</th>\n",
       "      <td>10.000000</td>\n",
       "      <td>8.269231</td>\n",
       "      <td>Finance</td>\n",
       "      <td>-5.0</td>\n",
       "    </tr>\n",
       "  </tbody>\n",
       "</table>\n",
       "</div>"
      ],
      "text/plain": [
       "      Income        Age Department  Balance\n",
       "0   6.204453   5.000000         HR    100.0\n",
       "1   5.030364   5.961538  Insurance   -263.0\n",
       "2   5.000000  10.000000  Marketing   2000.0\n",
       "3  10.000000   8.269231    Finance     -5.0"
      ]
     },
     "execution_count": 108,
     "metadata": {},
     "output_type": "execute_result"
    }
   ],
   "source": [
    "# Mentioning the range \n",
    " \n",
    "scaler = MinMaxScaler(feature_range=(5, 10))\n",
    "\n",
    "df_scaled[col_names] = scaler.fit_transform(features.values)\n",
    "df_scaled"
   ]
  },
  {
   "cell_type": "markdown",
   "id": "2c8494ac",
   "metadata": {},
   "source": [
    "### Standard Scaler\n",
    "\n",
    "- StandardScaler is sensitive to outliers, and the features may scale differently from each other in the presence of outliers.\n",
    "\n",
    "- Standardize features by removing the mean and scaling to unit variance.\n",
    "\n",
    "    The standard score of a sample x is calculated as:\n",
    "\n",
    "           z = (x - u) / s\n",
    "\n",
    "where u is the mean of the training samples or zero if with_mean=False, and s is the standard deviation of the training samples or one if with_std=False."
   ]
  },
  {
   "cell_type": "code",
   "execution_count": 109,
   "id": "95960d6e",
   "metadata": {},
   "outputs": [],
   "source": [
    "from sklearn.preprocessing import StandardScaler\n",
    "\n",
    "scaler = StandardScaler()"
   ]
  },
  {
   "cell_type": "code",
   "execution_count": 110,
   "id": "76ba8596",
   "metadata": {},
   "outputs": [
    {
     "data": {
      "text/html": [
       "<div>\n",
       "<style scoped>\n",
       "    .dataframe tbody tr th:only-of-type {\n",
       "        vertical-align: middle;\n",
       "    }\n",
       "\n",
       "    .dataframe tbody tr th {\n",
       "        vertical-align: top;\n",
       "    }\n",
       "\n",
       "    .dataframe thead th {\n",
       "        text-align: right;\n",
       "    }\n",
       "</style>\n",
       "<table border=\"1\" class=\"dataframe\">\n",
       "  <thead>\n",
       "    <tr style=\"text-align: right;\">\n",
       "      <th></th>\n",
       "      <th>Income</th>\n",
       "      <th>Age</th>\n",
       "      <th>Department</th>\n",
       "      <th>Balance</th>\n",
       "    </tr>\n",
       "  </thead>\n",
       "  <tbody>\n",
       "    <tr>\n",
       "      <th>0</th>\n",
       "      <td>-0.173200</td>\n",
       "      <td>-1.179536</td>\n",
       "      <td>HR</td>\n",
       "      <td>100.0</td>\n",
       "    </tr>\n",
       "    <tr>\n",
       "      <th>1</th>\n",
       "      <td>-0.747236</td>\n",
       "      <td>-0.688062</td>\n",
       "      <td>Insurance</td>\n",
       "      <td>-263.0</td>\n",
       "    </tr>\n",
       "    <tr>\n",
       "      <th>2</th>\n",
       "      <td>-0.762082</td>\n",
       "      <td>1.376125</td>\n",
       "      <td>Marketing</td>\n",
       "      <td>2000.0</td>\n",
       "    </tr>\n",
       "    <tr>\n",
       "      <th>3</th>\n",
       "      <td>1.682519</td>\n",
       "      <td>0.491473</td>\n",
       "      <td>Finance</td>\n",
       "      <td>-5.0</td>\n",
       "    </tr>\n",
       "  </tbody>\n",
       "</table>\n",
       "</div>"
      ],
      "text/plain": [
       "     Income       Age Department  Balance\n",
       "0 -0.173200 -1.179536         HR    100.0\n",
       "1 -0.747236 -0.688062  Insurance   -263.0\n",
       "2 -0.762082  1.376125  Marketing   2000.0\n",
       "3  1.682519  0.491473    Finance     -5.0"
      ]
     },
     "execution_count": 110,
     "metadata": {},
     "output_type": "execute_result"
    }
   ],
   "source": [
    "df_scaled[col_names] = scaler.fit_transform(features.values)\n",
    "df_scaled"
   ]
  },
  {
   "cell_type": "code",
   "execution_count": 111,
   "id": "3cf8ec41",
   "metadata": {},
   "outputs": [
    {
     "data": {
      "text/html": [
       "<div>\n",
       "<style scoped>\n",
       "    .dataframe tbody tr th:only-of-type {\n",
       "        vertical-align: middle;\n",
       "    }\n",
       "\n",
       "    .dataframe tbody tr th {\n",
       "        vertical-align: top;\n",
       "    }\n",
       "\n",
       "    .dataframe thead th {\n",
       "        text-align: right;\n",
       "    }\n",
       "</style>\n",
       "<table border=\"1\" class=\"dataframe\">\n",
       "  <thead>\n",
       "    <tr style=\"text-align: right;\">\n",
       "      <th></th>\n",
       "      <th>Income</th>\n",
       "      <th>Age</th>\n",
       "      <th>Balance</th>\n",
       "    </tr>\n",
       "  </thead>\n",
       "  <tbody>\n",
       "    <tr>\n",
       "      <th>count</th>\n",
       "      <td>4.000000</td>\n",
       "      <td>4.000000e+00</td>\n",
       "      <td>4.000000</td>\n",
       "    </tr>\n",
       "    <tr>\n",
       "      <th>mean</th>\n",
       "      <td>0.000000</td>\n",
       "      <td>5.551115e-17</td>\n",
       "      <td>458.000000</td>\n",
       "    </tr>\n",
       "    <tr>\n",
       "      <th>std</th>\n",
       "      <td>1.154701</td>\n",
       "      <td>1.154701e+00</td>\n",
       "      <td>1039.252616</td>\n",
       "    </tr>\n",
       "    <tr>\n",
       "      <th>min</th>\n",
       "      <td>-0.762082</td>\n",
       "      <td>-1.179536e+00</td>\n",
       "      <td>-263.000000</td>\n",
       "    </tr>\n",
       "    <tr>\n",
       "      <th>25%</th>\n",
       "      <td>-0.750948</td>\n",
       "      <td>-8.109308e-01</td>\n",
       "      <td>-69.500000</td>\n",
       "    </tr>\n",
       "    <tr>\n",
       "      <th>50%</th>\n",
       "      <td>-0.460218</td>\n",
       "      <td>-9.829464e-02</td>\n",
       "      <td>47.500000</td>\n",
       "    </tr>\n",
       "    <tr>\n",
       "      <th>75%</th>\n",
       "      <td>0.290729</td>\n",
       "      <td>7.126361e-01</td>\n",
       "      <td>575.000000</td>\n",
       "    </tr>\n",
       "    <tr>\n",
       "      <th>max</th>\n",
       "      <td>1.682519</td>\n",
       "      <td>1.376125e+00</td>\n",
       "      <td>2000.000000</td>\n",
       "    </tr>\n",
       "  </tbody>\n",
       "</table>\n",
       "</div>"
      ],
      "text/plain": [
       "         Income           Age      Balance\n",
       "count  4.000000  4.000000e+00     4.000000\n",
       "mean   0.000000  5.551115e-17   458.000000\n",
       "std    1.154701  1.154701e+00  1039.252616\n",
       "min   -0.762082 -1.179536e+00  -263.000000\n",
       "25%   -0.750948 -8.109308e-01   -69.500000\n",
       "50%   -0.460218 -9.829464e-02    47.500000\n",
       "75%    0.290729  7.126361e-01   575.000000\n",
       "max    1.682519  1.376125e+00  2000.000000"
      ]
     },
     "execution_count": 111,
     "metadata": {},
     "output_type": "execute_result"
    }
   ],
   "source": [
    "df_scaled.describe() # the values are not exactly, but very close to 0(same with standard deviation). \n",
    "#This occurs due to the numerical precision of floating-point numbers in Python."
   ]
  },
  {
   "cell_type": "markdown",
   "id": "2b4a442c",
   "metadata": {},
   "source": [
    "### MaxAbsScaler\n",
    "\n",
    "- Scale each feature by its maximum absolute value.\n",
    "\n",
    "- This estimator scales and translates each feature individually such that the maximal absolute value of each feature in the training set will be 1.0. \n",
    "\n",
    "- It does not shift/center the data, and thus does not destroy any sparsity.\n",
    "\n",
    "- This scaler can also be applied to sparse CSR or CSC matrices.\n",
    "\n",
    "- MaxAbsScaler doesn’t reduce the effect of outliers; it only linearily scales them down."
   ]
  },
  {
   "cell_type": "code",
   "execution_count": 112,
   "id": "d83805e2",
   "metadata": {},
   "outputs": [],
   "source": [
    "from sklearn.preprocessing import MaxAbsScaler\n",
    "scaler = MaxAbsScaler()\n",
    "\n"
   ]
  },
  {
   "cell_type": "code",
   "execution_count": 113,
   "id": "ab86df10",
   "metadata": {},
   "outputs": [],
   "source": [
    "df_scaled[col_names] = scaler.fit_transform(features.values)\n"
   ]
  },
  {
   "cell_type": "code",
   "execution_count": 114,
   "id": "bc826149",
   "metadata": {},
   "outputs": [
    {
     "data": {
      "text/html": [
       "<div>\n",
       "<style scoped>\n",
       "    .dataframe tbody tr th:only-of-type {\n",
       "        vertical-align: middle;\n",
       "    }\n",
       "\n",
       "    .dataframe tbody tr th {\n",
       "        vertical-align: top;\n",
       "    }\n",
       "\n",
       "    .dataframe thead th {\n",
       "        text-align: right;\n",
       "    }\n",
       "</style>\n",
       "<table border=\"1\" class=\"dataframe\">\n",
       "  <thead>\n",
       "    <tr style=\"text-align: right;\">\n",
       "      <th></th>\n",
       "      <th>Income</th>\n",
       "      <th>Age</th>\n",
       "      <th>Department</th>\n",
       "      <th>Balance</th>\n",
       "    </tr>\n",
       "  </thead>\n",
       "  <tbody>\n",
       "    <tr>\n",
       "      <th>0</th>\n",
       "      <td>0.250</td>\n",
       "      <td>0.490196</td>\n",
       "      <td>HR</td>\n",
       "      <td>100.0</td>\n",
       "    </tr>\n",
       "    <tr>\n",
       "      <th>1</th>\n",
       "      <td>0.018</td>\n",
       "      <td>0.588235</td>\n",
       "      <td>Insurance</td>\n",
       "      <td>-263.0</td>\n",
       "    </tr>\n",
       "    <tr>\n",
       "      <th>2</th>\n",
       "      <td>0.012</td>\n",
       "      <td>1.000000</td>\n",
       "      <td>Marketing</td>\n",
       "      <td>2000.0</td>\n",
       "    </tr>\n",
       "    <tr>\n",
       "      <th>3</th>\n",
       "      <td>1.000</td>\n",
       "      <td>0.823529</td>\n",
       "      <td>Finance</td>\n",
       "      <td>-5.0</td>\n",
       "    </tr>\n",
       "  </tbody>\n",
       "</table>\n",
       "</div>"
      ],
      "text/plain": [
       "   Income       Age Department  Balance\n",
       "0   0.250  0.490196         HR    100.0\n",
       "1   0.018  0.588235  Insurance   -263.0\n",
       "2   0.012  1.000000  Marketing   2000.0\n",
       "3   1.000  0.823529    Finance     -5.0"
      ]
     },
     "execution_count": 114,
     "metadata": {},
     "output_type": "execute_result"
    }
   ],
   "source": [
    "df_scaled"
   ]
  },
  {
   "cell_type": "code",
   "execution_count": 93,
   "id": "733a31e4",
   "metadata": {},
   "outputs": [
    {
     "data": {
      "text/plain": [
       "(1000000, 51, 2000.0)"
      ]
     },
     "execution_count": 93,
     "metadata": {},
     "output_type": "execute_result"
    }
   ],
   "source": [
    "df[\"Income\"].max(), df[\"Age\"].max(), df['Balance'].max()\n",
    "#MaxAbs Scaler works as expected by printing the maximum values of each column before we scaled"
   ]
  },
  {
   "cell_type": "markdown",
   "id": "3a453aba",
   "metadata": {},
   "source": [
    "1. each value in the Income column is divided by 1000000\n",
    "2. each value in the Age column is divided by 51\n",
    "3. each value in the Balance column is divided by 2000"
   ]
  },
  {
   "cell_type": "markdown",
   "id": "12328d12",
   "metadata": {},
   "source": [
    "### RobustScaler\n",
    "\n",
    "- Scale features using statistics that are robust to outliers.\n",
    "\n",
    "-  Scaler removes the median and scales the data according to the quantile range (defaults to IQR: Interquartile Range). The IQR is the range between the 1st quartile (25th quantile) and the 3rd quartile (75th quantile).\n",
    "\n",
    "- Forumula\n",
    "\n",
    "        x_scaled = (x-Q1)/(Q3-Q1)"
   ]
  },
  {
   "cell_type": "code",
   "execution_count": 115,
   "id": "62cdc879",
   "metadata": {},
   "outputs": [],
   "source": [
    "from sklearn.preprocessing import RobustScaler\n",
    "scaler = RobustScaler()"
   ]
  },
  {
   "cell_type": "code",
   "execution_count": 116,
   "id": "1f9655a2",
   "metadata": {},
   "outputs": [
    {
     "data": {
      "text/html": [
       "<div>\n",
       "<style scoped>\n",
       "    .dataframe tbody tr th:only-of-type {\n",
       "        vertical-align: middle;\n",
       "    }\n",
       "\n",
       "    .dataframe tbody tr th {\n",
       "        vertical-align: top;\n",
       "    }\n",
       "\n",
       "    .dataframe thead th {\n",
       "        text-align: right;\n",
       "    }\n",
       "</style>\n",
       "<table border=\"1\" class=\"dataframe\">\n",
       "  <thead>\n",
       "    <tr style=\"text-align: right;\">\n",
       "      <th></th>\n",
       "      <th>Income</th>\n",
       "      <th>Age</th>\n",
       "      <th>Department</th>\n",
       "      <th>Balance</th>\n",
       "    </tr>\n",
       "  </thead>\n",
       "  <tbody>\n",
       "    <tr>\n",
       "      <th>0</th>\n",
       "      <td>0.275534</td>\n",
       "      <td>-0.709677</td>\n",
       "      <td>HR</td>\n",
       "      <td>100.0</td>\n",
       "    </tr>\n",
       "    <tr>\n",
       "      <th>1</th>\n",
       "      <td>-0.275534</td>\n",
       "      <td>-0.387097</td>\n",
       "      <td>Insurance</td>\n",
       "      <td>-263.0</td>\n",
       "    </tr>\n",
       "    <tr>\n",
       "      <th>2</th>\n",
       "      <td>-0.289786</td>\n",
       "      <td>0.967742</td>\n",
       "      <td>Marketing</td>\n",
       "      <td>2000.0</td>\n",
       "    </tr>\n",
       "    <tr>\n",
       "      <th>3</th>\n",
       "      <td>2.057007</td>\n",
       "      <td>0.387097</td>\n",
       "      <td>Finance</td>\n",
       "      <td>-5.0</td>\n",
       "    </tr>\n",
       "  </tbody>\n",
       "</table>\n",
       "</div>"
      ],
      "text/plain": [
       "     Income       Age Department  Balance\n",
       "0  0.275534 -0.709677         HR    100.0\n",
       "1 -0.275534 -0.387097  Insurance   -263.0\n",
       "2 -0.289786  0.967742  Marketing   2000.0\n",
       "3  2.057007  0.387097    Finance     -5.0"
      ]
     },
     "execution_count": 116,
     "metadata": {},
     "output_type": "execute_result"
    }
   ],
   "source": [
    "df_scaled[col_names] = scaler.fit_transform(features.values)\n",
    "df_scaled"
   ]
  },
  {
   "cell_type": "markdown",
   "id": "eb223fa8",
   "metadata": {},
   "source": [
    "### Quantile Transformer Scaler\n",
    "\n",
    "- Transform features using quantiles information.\n",
    "\n",
    "- This method transforms the features to follow a uniform or a normal distribution. Therefore, for a given feature, this transformation tends to spread out the most frequent values. \n",
    "\n",
    "- It also reduces the impact of (marginal) outliers: this is therefore a robust preprocessing scheme.\n",
    "\n",
    "- The transformation is applied on each feature independently. First an estimate of the cumulative distribution function of a feature is used to map the original values to a uniform distribution. \n",
    "\n",
    "- The obtained values are then mapped to the desired output distribution using the associated quantile function. Features values of new/unseen data that fall below or above the fitted range will be mapped to the bounds of the output distribution. Note that this transform is non-linear. \n",
    "\n",
    "- It may distort linear correlations between variables measured at the same scale but renders variables measured at different scales more directly comparable.\n",
    "\n",
    "- Better to use for non-linear data"
   ]
  },
  {
   "cell_type": "code",
   "execution_count": 117,
   "id": "ac2d30ac",
   "metadata": {},
   "outputs": [
    {
     "name": "stderr",
     "output_type": "stream",
     "text": [
      "C:\\Users\\HP\\anaconda3\\lib\\site-packages\\sklearn\\preprocessing\\_data.py:2663: UserWarning: n_quantiles (1000) is greater than the total number of samples (4). n_quantiles is set to n_samples.\n",
      "  warnings.warn(\n"
     ]
    },
    {
     "data": {
      "text/html": [
       "<div>\n",
       "<style scoped>\n",
       "    .dataframe tbody tr th:only-of-type {\n",
       "        vertical-align: middle;\n",
       "    }\n",
       "\n",
       "    .dataframe tbody tr th {\n",
       "        vertical-align: top;\n",
       "    }\n",
       "\n",
       "    .dataframe thead th {\n",
       "        text-align: right;\n",
       "    }\n",
       "</style>\n",
       "<table border=\"1\" class=\"dataframe\">\n",
       "  <thead>\n",
       "    <tr style=\"text-align: right;\">\n",
       "      <th></th>\n",
       "      <th>Income</th>\n",
       "      <th>Age</th>\n",
       "      <th>Department</th>\n",
       "      <th>Balance</th>\n",
       "    </tr>\n",
       "  </thead>\n",
       "  <tbody>\n",
       "    <tr>\n",
       "      <th>0</th>\n",
       "      <td>0.666667</td>\n",
       "      <td>0.000000</td>\n",
       "      <td>HR</td>\n",
       "      <td>100.0</td>\n",
       "    </tr>\n",
       "    <tr>\n",
       "      <th>1</th>\n",
       "      <td>0.333333</td>\n",
       "      <td>0.333333</td>\n",
       "      <td>Insurance</td>\n",
       "      <td>-263.0</td>\n",
       "    </tr>\n",
       "    <tr>\n",
       "      <th>2</th>\n",
       "      <td>0.000000</td>\n",
       "      <td>1.000000</td>\n",
       "      <td>Marketing</td>\n",
       "      <td>2000.0</td>\n",
       "    </tr>\n",
       "    <tr>\n",
       "      <th>3</th>\n",
       "      <td>1.000000</td>\n",
       "      <td>0.666667</td>\n",
       "      <td>Finance</td>\n",
       "      <td>-5.0</td>\n",
       "    </tr>\n",
       "  </tbody>\n",
       "</table>\n",
       "</div>"
      ],
      "text/plain": [
       "     Income       Age Department  Balance\n",
       "0  0.666667  0.000000         HR    100.0\n",
       "1  0.333333  0.333333  Insurance   -263.0\n",
       "2  0.000000  1.000000  Marketing   2000.0\n",
       "3  1.000000  0.666667    Finance     -5.0"
      ]
     },
     "execution_count": 117,
     "metadata": {},
     "output_type": "execute_result"
    }
   ],
   "source": [
    "from sklearn.preprocessing import QuantileTransformer\n",
    "scaler = QuantileTransformer()\n",
    "\n",
    "df_scaled[col_names] = scaler.fit_transform(features.values)\n",
    "df_scaled"
   ]
  },
  {
   "cell_type": "markdown",
   "id": "370d58fc",
   "metadata": {},
   "source": [
    "- The effects of both the RobustScaler and the QuantileTransformer can be seen on a larger dataset instead of one with 4 row."
   ]
  },
  {
   "cell_type": "markdown",
   "id": "54057ace",
   "metadata": {},
   "source": [
    "### Log Transform\n",
    "\n",
    "- Used to convert a skewed distrbution to a normal distribution / less-skewed distribution \n",
    "\n",
    "- Takes the log values of the column and use these values as a separate column\n",
    "\n",
    "- The log is applied to every single distribution of the data and the result from the log is considered the final day to feed the machine learning algorithms.\n",
    "\n",
    "- that log transforms performs so well on the right-skewed data. It transforms the right-skewed data into normally distributed data so well."
   ]
  },
  {
   "cell_type": "code",
   "execution_count": 118,
   "id": "39cc0aae",
   "metadata": {},
   "outputs": [],
   "source": [
    "df['log_income'] = np.log(df['Income'])"
   ]
  },
  {
   "cell_type": "code",
   "execution_count": 119,
   "id": "1793f3da",
   "metadata": {},
   "outputs": [
    {
     "data": {
      "text/html": [
       "<div>\n",
       "<style scoped>\n",
       "    .dataframe tbody tr th:only-of-type {\n",
       "        vertical-align: middle;\n",
       "    }\n",
       "\n",
       "    .dataframe tbody tr th {\n",
       "        vertical-align: top;\n",
       "    }\n",
       "\n",
       "    .dataframe thead th {\n",
       "        text-align: right;\n",
       "    }\n",
       "</style>\n",
       "<table border=\"1\" class=\"dataframe\">\n",
       "  <thead>\n",
       "    <tr style=\"text-align: right;\">\n",
       "      <th></th>\n",
       "      <th>Income</th>\n",
       "      <th>Age</th>\n",
       "      <th>Department</th>\n",
       "      <th>Balance</th>\n",
       "      <th>log_income</th>\n",
       "    </tr>\n",
       "  </thead>\n",
       "  <tbody>\n",
       "    <tr>\n",
       "      <th>0</th>\n",
       "      <td>250000</td>\n",
       "      <td>25</td>\n",
       "      <td>HR</td>\n",
       "      <td>100.0</td>\n",
       "      <td>12.429216</td>\n",
       "    </tr>\n",
       "    <tr>\n",
       "      <th>1</th>\n",
       "      <td>18000</td>\n",
       "      <td>30</td>\n",
       "      <td>Insurance</td>\n",
       "      <td>-263.0</td>\n",
       "      <td>9.798127</td>\n",
       "    </tr>\n",
       "    <tr>\n",
       "      <th>2</th>\n",
       "      <td>12000</td>\n",
       "      <td>51</td>\n",
       "      <td>Marketing</td>\n",
       "      <td>2000.0</td>\n",
       "      <td>9.392662</td>\n",
       "    </tr>\n",
       "    <tr>\n",
       "      <th>3</th>\n",
       "      <td>1000000</td>\n",
       "      <td>42</td>\n",
       "      <td>Finance</td>\n",
       "      <td>-5.0</td>\n",
       "      <td>13.815511</td>\n",
       "    </tr>\n",
       "  </tbody>\n",
       "</table>\n",
       "</div>"
      ],
      "text/plain": [
       "    Income  Age Department  Balance  log_income\n",
       "0   250000   25         HR    100.0   12.429216\n",
       "1    18000   30  Insurance   -263.0    9.798127\n",
       "2    12000   51  Marketing   2000.0    9.392662\n",
       "3  1000000   42    Finance     -5.0   13.815511"
      ]
     },
     "execution_count": 119,
     "metadata": {},
     "output_type": "execute_result"
    }
   ],
   "source": [
    "df #new column is created which stores the log values of Income column"
   ]
  },
  {
   "cell_type": "markdown",
   "id": "f13c41a1",
   "metadata": {},
   "source": [
    "### Power Transformer Scaler\n",
    "\n",
    "- Changes the distribution of the variable hence making it more Gaussian (Normal)\n",
    "\n",
    "- Power is applied to the data observations for transforming the data.\n",
    "\n",
    "- There are two types of Power Transformation techniques:\n",
    "\n",
    "        a. Box-Cox Transform\n",
    "        b. Yeo-Johnson Transform\n",
    "        \n",
    "- Power transformer automates the decision of making a choice over the distribution by introducing a parameter called Lambda.        "
   ]
  },
  {
   "cell_type": "markdown",
   "id": "91e060ee",
   "metadata": {},
   "source": [
    "##### Box - Cox transform \n",
    "\n",
    "- This transform technique is mainly used for transforming the data observations by applying power to them. \n",
    "\n",
    "- The power of the data observations is denoted by Lambda(λ). \n",
    "\n",
    "- There are mainly two conditions associated with the power in this transform, which is lambda equals zero and not equal to zero. "
   ]
  },
  {
   "cell_type": "code",
   "execution_count": 101,
   "id": "b7740f2b",
   "metadata": {},
   "outputs": [],
   "source": [
    "from sklearn.preprocessing import PowerTransformer\n",
    "scaler = PowerTransformer(method = 'box-cox')"
   ]
  },
  {
   "cell_type": "code",
   "execution_count": 120,
   "id": "e407c3eb",
   "metadata": {},
   "outputs": [
    {
     "name": "stderr",
     "output_type": "stream",
     "text": [
      "C:\\Users\\HP\\anaconda3\\lib\\site-packages\\sklearn\\preprocessing\\_data.py:2663: UserWarning: n_quantiles (1000) is greater than the total number of samples (4). n_quantiles is set to n_samples.\n",
      "  warnings.warn(\n"
     ]
    },
    {
     "data": {
      "text/html": [
       "<div>\n",
       "<style scoped>\n",
       "    .dataframe tbody tr th:only-of-type {\n",
       "        vertical-align: middle;\n",
       "    }\n",
       "\n",
       "    .dataframe tbody tr th {\n",
       "        vertical-align: top;\n",
       "    }\n",
       "\n",
       "    .dataframe thead th {\n",
       "        text-align: right;\n",
       "    }\n",
       "</style>\n",
       "<table border=\"1\" class=\"dataframe\">\n",
       "  <thead>\n",
       "    <tr style=\"text-align: right;\">\n",
       "      <th></th>\n",
       "      <th>Income</th>\n",
       "      <th>Age</th>\n",
       "      <th>Department</th>\n",
       "      <th>Balance</th>\n",
       "    </tr>\n",
       "  </thead>\n",
       "  <tbody>\n",
       "    <tr>\n",
       "      <th>0</th>\n",
       "      <td>0.666667</td>\n",
       "      <td>0.000000</td>\n",
       "      <td>HR</td>\n",
       "      <td>100.0</td>\n",
       "    </tr>\n",
       "    <tr>\n",
       "      <th>1</th>\n",
       "      <td>0.333333</td>\n",
       "      <td>0.333333</td>\n",
       "      <td>Insurance</td>\n",
       "      <td>-263.0</td>\n",
       "    </tr>\n",
       "    <tr>\n",
       "      <th>2</th>\n",
       "      <td>0.000000</td>\n",
       "      <td>1.000000</td>\n",
       "      <td>Marketing</td>\n",
       "      <td>2000.0</td>\n",
       "    </tr>\n",
       "    <tr>\n",
       "      <th>3</th>\n",
       "      <td>1.000000</td>\n",
       "      <td>0.666667</td>\n",
       "      <td>Finance</td>\n",
       "      <td>-5.0</td>\n",
       "    </tr>\n",
       "  </tbody>\n",
       "</table>\n",
       "</div>"
      ],
      "text/plain": [
       "     Income       Age Department  Balance\n",
       "0  0.666667  0.000000         HR    100.0\n",
       "1  0.333333  0.333333  Insurance   -263.0\n",
       "2  0.000000  1.000000  Marketing   2000.0\n",
       "3  1.000000  0.666667    Finance     -5.0"
      ]
     },
     "execution_count": 120,
     "metadata": {},
     "output_type": "execute_result"
    }
   ],
   "source": [
    "df_scaled[col_names] = scaler.fit_transform(features.values)\n",
    "df_scaled"
   ]
  },
  {
   "cell_type": "markdown",
   "id": "93e573af",
   "metadata": {},
   "source": [
    "##### Yeo - Johnson Transform\n",
    "\n",
    "- This transformation technique is also a power transform technique, where the power of the data observations is applied to transform the data.\n",
    "- This is an advanced form of a box cox transformations technique where it can be applied to even zero and negative values of data observations also\n",
    "- In scikit learn the default parameter is set to Yeo Johnson in the Power Transformer class."
   ]
  },
  {
   "cell_type": "code",
   "execution_count": 121,
   "id": "2ebfb9ea",
   "metadata": {},
   "outputs": [
    {
     "data": {
      "text/html": [
       "<div>\n",
       "<style scoped>\n",
       "    .dataframe tbody tr th:only-of-type {\n",
       "        vertical-align: middle;\n",
       "    }\n",
       "\n",
       "    .dataframe tbody tr th {\n",
       "        vertical-align: top;\n",
       "    }\n",
       "\n",
       "    .dataframe thead th {\n",
       "        text-align: right;\n",
       "    }\n",
       "</style>\n",
       "<table border=\"1\" class=\"dataframe\">\n",
       "  <thead>\n",
       "    <tr style=\"text-align: right;\">\n",
       "      <th></th>\n",
       "      <th>Income</th>\n",
       "      <th>Age</th>\n",
       "      <th>Department</th>\n",
       "      <th>Balance</th>\n",
       "    </tr>\n",
       "  </thead>\n",
       "  <tbody>\n",
       "    <tr>\n",
       "      <th>0</th>\n",
       "      <td>0.654936</td>\n",
       "      <td>-1.272634</td>\n",
       "      <td>HR</td>\n",
       "      <td>100.0</td>\n",
       "    </tr>\n",
       "    <tr>\n",
       "      <th>1</th>\n",
       "      <td>-0.835315</td>\n",
       "      <td>-0.610047</td>\n",
       "      <td>Insurance</td>\n",
       "      <td>-263.0</td>\n",
       "    </tr>\n",
       "    <tr>\n",
       "      <th>2</th>\n",
       "      <td>-1.105017</td>\n",
       "      <td>1.284852</td>\n",
       "      <td>Marketing</td>\n",
       "      <td>2000.0</td>\n",
       "    </tr>\n",
       "    <tr>\n",
       "      <th>3</th>\n",
       "      <td>1.285397</td>\n",
       "      <td>0.597829</td>\n",
       "      <td>Finance</td>\n",
       "      <td>-5.0</td>\n",
       "    </tr>\n",
       "  </tbody>\n",
       "</table>\n",
       "</div>"
      ],
      "text/plain": [
       "     Income       Age Department  Balance\n",
       "0  0.654936 -1.272634         HR    100.0\n",
       "1 -0.835315 -0.610047  Insurance   -263.0\n",
       "2 -1.105017  1.284852  Marketing   2000.0\n",
       "3  1.285397  0.597829    Finance     -5.0"
      ]
     },
     "execution_count": 121,
     "metadata": {},
     "output_type": "execute_result"
    }
   ],
   "source": [
    "from sklearn.preprocessing import PowerTransformer\n",
    "scaler = PowerTransformer(method = 'yeo-johnson')\n",
    "\n",
    "\n",
    "df_scaled[col_names] = scaler.fit_transform(features.values)\n",
    "df_scaled\n"
   ]
  },
  {
   "cell_type": "markdown",
   "id": "f3987b7e",
   "metadata": {},
   "source": [
    "### Unit Vector Scaler/Normalizer\n",
    "\n",
    "- Normalization is the process of scaling individual samples to have unit norm \n",
    "\n",
    "- The Normalizer works on the rows! Each row of the dataframe with at least one non-zero component is rescaled independently of other samples so that its norm (l1, l2, or inf) equals one."
   ]
  },
  {
   "cell_type": "markdown",
   "id": "c28c3f25",
   "metadata": {},
   "source": [
    "##### Points to remember\n",
    "\n",
    "- If we are using L1 norm, the values in each column are converted so that the sum of their absolute values along the row = 1\n",
    "- If we are using L2 norm, the values in each column are first squared and added so that the sum of their absolute values along the row = 1"
   ]
  },
  {
   "cell_type": "code",
   "execution_count": 122,
   "id": "b89831c5",
   "metadata": {},
   "outputs": [
    {
     "data": {
      "text/html": [
       "<div>\n",
       "<style scoped>\n",
       "    .dataframe tbody tr th:only-of-type {\n",
       "        vertical-align: middle;\n",
       "    }\n",
       "\n",
       "    .dataframe tbody tr th {\n",
       "        vertical-align: top;\n",
       "    }\n",
       "\n",
       "    .dataframe thead th {\n",
       "        text-align: right;\n",
       "    }\n",
       "</style>\n",
       "<table border=\"1\" class=\"dataframe\">\n",
       "  <thead>\n",
       "    <tr style=\"text-align: right;\">\n",
       "      <th></th>\n",
       "      <th>Income</th>\n",
       "      <th>Age</th>\n",
       "      <th>Department</th>\n",
       "      <th>Balance</th>\n",
       "    </tr>\n",
       "  </thead>\n",
       "  <tbody>\n",
       "    <tr>\n",
       "      <th>0</th>\n",
       "      <td>1.000000</td>\n",
       "      <td>0.000100</td>\n",
       "      <td>HR</td>\n",
       "      <td>100.0</td>\n",
       "    </tr>\n",
       "    <tr>\n",
       "      <th>1</th>\n",
       "      <td>0.999999</td>\n",
       "      <td>0.001667</td>\n",
       "      <td>Insurance</td>\n",
       "      <td>-263.0</td>\n",
       "    </tr>\n",
       "    <tr>\n",
       "      <th>2</th>\n",
       "      <td>0.999991</td>\n",
       "      <td>0.004250</td>\n",
       "      <td>Marketing</td>\n",
       "      <td>2000.0</td>\n",
       "    </tr>\n",
       "    <tr>\n",
       "      <th>3</th>\n",
       "      <td>1.000000</td>\n",
       "      <td>0.000042</td>\n",
       "      <td>Finance</td>\n",
       "      <td>-5.0</td>\n",
       "    </tr>\n",
       "  </tbody>\n",
       "</table>\n",
       "</div>"
      ],
      "text/plain": [
       "     Income       Age Department  Balance\n",
       "0  1.000000  0.000100         HR    100.0\n",
       "1  0.999999  0.001667  Insurance   -263.0\n",
       "2  0.999991  0.004250  Marketing   2000.0\n",
       "3  1.000000  0.000042    Finance     -5.0"
      ]
     },
     "execution_count": 122,
     "metadata": {},
     "output_type": "execute_result"
    }
   ],
   "source": [
    "from sklearn.preprocessing import Normalizer\n",
    "scaler = Normalizer(norm = 'l2')\n",
    "# norm = 'l2' is default\n",
    "\n",
    "df_scaled[col_names] = scaler.fit_transform(features.values)\n",
    "df_scaled"
   ]
  },
  {
   "cell_type": "markdown",
   "id": "4e4f3489",
   "metadata": {},
   "source": [
    "### Custom transformer\n",
    "\n",
    "- Based on the domain knowledge of the data, custom transformations can be applied to transform the data into a normal distribution. \n",
    "\n",
    "- The custom transforms here can be any function or parameter like sin, cos, tan, cube, etc."
   ]
  },
  {
   "cell_type": "markdown",
   "id": "fc464f6a",
   "metadata": {},
   "source": [
    "##### Example\n",
    "\n",
    "1. sin_tranformed_data = np.sin(df) \n",
    "2. cos_tranformed_data = np.cos(df) \n",
    "3. tan_tranformed_data = np.tan(df) "
   ]
  },
  {
   "cell_type": "code",
   "execution_count": 127,
   "id": "f5edfb54",
   "metadata": {},
   "outputs": [
    {
     "data": {
      "text/html": [
       "<div>\n",
       "<style scoped>\n",
       "    .dataframe tbody tr th:only-of-type {\n",
       "        vertical-align: middle;\n",
       "    }\n",
       "\n",
       "    .dataframe tbody tr th {\n",
       "        vertical-align: top;\n",
       "    }\n",
       "\n",
       "    .dataframe thead th {\n",
       "        text-align: right;\n",
       "    }\n",
       "</style>\n",
       "<table border=\"1\" class=\"dataframe\">\n",
       "  <thead>\n",
       "    <tr style=\"text-align: right;\">\n",
       "      <th></th>\n",
       "      <th>Income</th>\n",
       "      <th>Age</th>\n",
       "      <th>Department</th>\n",
       "      <th>Balance</th>\n",
       "    </tr>\n",
       "  </thead>\n",
       "  <tbody>\n",
       "    <tr>\n",
       "      <th>0</th>\n",
       "      <td>17.931569</td>\n",
       "      <td>4.643856</td>\n",
       "      <td>HR</td>\n",
       "      <td>100.0</td>\n",
       "    </tr>\n",
       "    <tr>\n",
       "      <th>1</th>\n",
       "      <td>14.135709</td>\n",
       "      <td>4.906891</td>\n",
       "      <td>Insurance</td>\n",
       "      <td>-263.0</td>\n",
       "    </tr>\n",
       "    <tr>\n",
       "      <th>2</th>\n",
       "      <td>13.550747</td>\n",
       "      <td>5.672425</td>\n",
       "      <td>Marketing</td>\n",
       "      <td>2000.0</td>\n",
       "    </tr>\n",
       "    <tr>\n",
       "      <th>3</th>\n",
       "      <td>19.931569</td>\n",
       "      <td>5.392317</td>\n",
       "      <td>Finance</td>\n",
       "      <td>-5.0</td>\n",
       "    </tr>\n",
       "  </tbody>\n",
       "</table>\n",
       "</div>"
      ],
      "text/plain": [
       "      Income       Age Department  Balance\n",
       "0  17.931569  4.643856         HR    100.0\n",
       "1  14.135709  4.906891  Insurance   -263.0\n",
       "2  13.550747  5.672425  Marketing   2000.0\n",
       "3  19.931569  5.392317    Finance     -5.0"
      ]
     },
     "execution_count": 127,
     "metadata": {},
     "output_type": "execute_result"
    }
   ],
   "source": [
    "# A simple example.- Applying a functional transformer\n",
    "\n",
    "from sklearn.preprocessing import FunctionTransformer\n",
    "transformer = FunctionTransformer(np.log2, validate = True)\n",
    "\n",
    "df_scaled[col_names] = transformer.transform(features.values)\n",
    "df_scaled\n",
    "\n"
   ]
  },
  {
   "cell_type": "markdown",
   "id": "d8f8c1fb",
   "metadata": {},
   "source": [
    "Output with log-base 2 applied on Age and Income\n",
    "\n"
   ]
  },
  {
   "cell_type": "markdown",
   "id": "fc2321c1",
   "metadata": {},
   "source": [
    "### Revision\n",
    "\n",
    "#### Feature Transformation Techniques\n",
    "\n",
    "1. Function Transformers\n",
    "2. Power Transformers\n",
    "3. Quantile Transformers"
   ]
  },
  {
   "cell_type": "markdown",
   "id": "5e4ffd7a",
   "metadata": {},
   "source": [
    "#### 1.Function Transformers \n",
    "\n",
    "1. Log Transforms - Log transform is one of the simplest transformations on the data in which the log is applied to every single distribution of the data and the result from the log is considered the final day to feed the machine learning algorithms.\n",
    "\n",
    "              Syntax: df['log_income'] = np.log(df['Income'])\n",
    "\n",
    "2. Square Transforms - Square transform is the type of transformer in which the square of the data is considered instead of the normal data. In simple words, in this transformed the data is applied with the square function, where the square of every single observation will be considered as the final transformed data.\n",
    "\n",
    "                \n",
    "              Syntax:  tranformed_data = np.square(data)\n",
    "                \n",
    "3. Square Root Transforms - This transform performs so well on the left-skewed data and efficiently transformed the left-skewed data into normally distributed data.\n",
    "\n",
    "              Syntax:  tranformed_data = np.sqrt(data)\n",
    "              \n",
    "4. Reciprocal Transforms - The reciprocal of every observation is considered. \n",
    "- This transform is useful in some of the datasets as the reciprocal of the observations works well to achieve normal distributions. \n",
    "\n",
    "              Syntax: tranformed_data = np.reciprocal(data)   \n",
    "              \n",
    "5. Custom Transform               "
   ]
  },
  {
   "cell_type": "markdown",
   "id": "9c55f006",
   "metadata": {},
   "source": [
    "#### 2. Power Transformers\n",
    "\n",
    "\n",
    "1. Box-Cox Transform - This transform technique is mainly used for transforming the data observations by applying power to them. The power of the data observations is denoted by Lambda(λ). There are mainly two conditions associated with the power in this transform, which is lambda equals zero and not equal to zero\n",
    "\n",
    "                    Syntax: from sklearn.preprocessing import PowerTransformer \n",
    "                            boxcox = PowerTransformer(method='box-cox') \n",
    "                            data_transformed = boxcox.fit_transform(data) \n",
    "                            \n",
    "2. Yeo-Johnson Transform - This transformation technique is also a power transform technique, where the power of the data observations is applied to transform the data. This is an advanced form of a box cox transformations technique where it can be applied to even zero and negative values of data observations also.\n",
    "\n",
    "                    Syntax: from sklearn.preprocessing import PowerTransformer\n",
    "                            scaler = PowerTransformer(method = 'yeo-johnson')\n"
   ]
  },
  {
   "cell_type": "markdown",
   "id": "24b09d15",
   "metadata": {},
   "source": [
    "#### 3. Quantile Transformers\n",
    "\n",
    "- Quantile transformation techniques are the type of feature transformation technique that can be applied to NY numerical data observations. \n",
    "\n",
    "- In this transformation technique, the input data can be fed to this transformer where this transformer makes the distribution of the output data normal to fed to the further machine learning algorithm\n",
    "\n",
    "                    Syntax: from sklearn.preprocessing import QuantileTransformer\n",
    "                            scaler = QuantileTransformer()"
   ]
  },
  {
   "cell_type": "markdown",
   "id": "8ce0165f",
   "metadata": {},
   "source": [
    "Learning Source : Analytics Vidhya and Geeks for Geeks"
   ]
  }
 ],
 "metadata": {
  "kernelspec": {
   "display_name": "Python 3 (ipykernel)",
   "language": "python",
   "name": "python3"
  },
  "language_info": {
   "codemirror_mode": {
    "name": "ipython",
    "version": 3
   },
   "file_extension": ".py",
   "mimetype": "text/x-python",
   "name": "python",
   "nbconvert_exporter": "python",
   "pygments_lexer": "ipython3",
   "version": "3.10.9"
  }
 },
 "nbformat": 4,
 "nbformat_minor": 5
}
